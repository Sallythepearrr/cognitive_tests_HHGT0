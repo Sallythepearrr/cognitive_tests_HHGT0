{
 "cells": [
  {
   "cell_type": "markdown",
   "id": "4c13d17c-f835-462b-bd38-93cd94a896f5",
   "metadata": {},
   "source": [
    "### The Approximate Number System (ANS) Test\n",
    "\n",
    "The Approximate Number System (ANS) Test aims to test your ability to estimate the size of numbers without use of language or symbols (and hence “counting”)\n",
    "\n",
    "This program runs the ANS test, upoloading your results to an online spreadsheet.\n",
    "\n",
    "Select **Kernel** > **Restart Kernel and Run All Cells** from the menu to run the test."
   ]
  },
  {
   "cell_type": "code",
   "execution_count": null,
   "id": "05fc8389-b278-440e-aca6-7adb11dd07ce",
   "metadata": {},
   "outputs": [],
   "source": [
    "from ANS_test import *\n",
    "run_ANS_test()"
   ]
  },
  {
   "cell_type": "code",
   "execution_count": null,
   "id": "093ee9cc-5054-48b7-ab7f-a708d10b4219",
   "metadata": {},
   "outputs": [],
   "source": []
  }
 ],
 "metadata": {
  "kernelspec": {
   "display_name": "Python 3 (ipykernel)",
   "language": "python",
   "name": "python3"
  },
  "language_info": {
   "codemirror_mode": {
    "name": "ipython",
    "version": 3
   },
   "file_extension": ".py",
   "mimetype": "text/x-python",
   "name": "python",
   "nbconvert_exporter": "python",
   "pygments_lexer": "ipython3",
   "version": "3.10.10"
  }
 },
 "nbformat": 4,
 "nbformat_minor": 5
}
