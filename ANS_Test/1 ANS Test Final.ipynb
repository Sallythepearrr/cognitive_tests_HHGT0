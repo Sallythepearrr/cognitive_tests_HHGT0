{
 "cells": [
  {
   "cell_type": "markdown",
   "id": "4c13d17c-f835-462b-bd38-93cd94a896f5",
   "metadata": {},
   "source": [
    "### The Approximate Number System (ANS) Test\n",
    "\n",
    "The Approximate Number System (ANS) Test aims to test your ability to estimate the size of numbers without use of language or symbols (and hence “counting”). \n",
    "Our aim is to test whether **ANS is dependent on having the dots in contrasting colours**.\n",
    "\n",
    "\n",
    "**You will complete two tests.**\n",
    "\n",
    "For each test, you will be shown 64 images with two circles, each contains different number of dots. The image will flash on the screen, and you have 3 seconds to decide which side of the circle that you instinctively think having more dots by clicking on the **\"Left\"** or **\"Right\"** button. If you don't choose within 3 seconds, it will automatically enter the next trial.\n",
    "\n",
    "The first test is to test ANS with colour distraction (contain dots with contrasting colours on each side), while the second one is the same as the first one, except with all dots having the same colour.\n",
    "\n",
    "\n",
    "This program runs the ANS test seperately, upoloading your results to an online spreadsheet.\n",
    "First, please fill in information at the start of each test, make sure to remember your **id** as it needs to be the same for both tests.\n",
    "\n",
    "\n",
    "**To Run the Test**\n",
    "1. Select **Kernel** > **Restart Kernel** from the menu.\n",
    "2. Click on the first cell with ANS_test_contrast, and run this cell by clicking the little triangle on the top of the page (the 6th symbol starting from the left)\n",
    "3. After finishing the first test, click and run the second cell with ANS_test_same.\n",
    "\n",
    "**If you missed the first few trials and would like to restart**\n",
    "1. Press the little square (on the right of the triangle) on the top of the page, it will stop the test\n",
    "2. follow the \"To Run the Test\" instructions above again\n",
    "\n",
    "Finally, thank you for taking part in the test.\n"
   ]
  },
  {
   "cell_type": "code",
   "execution_count": null,
   "id": "05fc8389-b278-440e-aca6-7adb11dd07ce",
   "metadata": {},
   "outputs": [],
   "source": [
    "from ANS_test_contrast import *\n",
    "run_ANS_test()"
   ]
  },
  {
   "cell_type": "code",
   "execution_count": null,
   "id": "c6f6cc64-036a-461b-945b-02375aa4b08c",
   "metadata": {},
   "outputs": [],
   "source": [
    "from ANS_test_same import *\n",
    "run_ANS_test()"
   ]
  }
 ],
 "metadata": {
  "kernelspec": {
   "display_name": "Python 3 (ipykernel)",
   "language": "python",
   "name": "python3"
  },
  "language_info": {
   "codemirror_mode": {
    "name": "ipython",
    "version": 3
   },
   "file_extension": ".py",
   "mimetype": "text/x-python",
   "name": "python",
   "nbconvert_exporter": "python",
   "pygments_lexer": "ipython3",
   "version": "3.10.10"
  }
 },
 "nbformat": 4,
 "nbformat_minor": 5
}
