{
 "cells": [
  {
   "cell_type": "code",
   "execution_count": 1,
   "id": "08583922-fa0e-4f9f-9165-ea1035ddb660",
   "metadata": {
    "scrolled": true
   },
   "outputs": [
    {
     "name": "stdout",
     "output_type": "stream",
     "text": [
      "Defaulting to user installation because normal site-packages is not writeable\n",
      "Requirement already satisfied: jupyter_ui_poll in /opt/tljh/user/lib/python3.10/site-packages (0.2.2)\n",
      "Requirement already satisfied: ipython in /opt/tljh/user/lib/python3.10/site-packages (from jupyter_ui_poll) (8.15.0)\n",
      "Requirement already satisfied: backcall in /opt/tljh/user/lib/python3.10/site-packages (from ipython->jupyter_ui_poll) (0.2.0)\n",
      "Requirement already satisfied: decorator in /opt/tljh/user/lib/python3.10/site-packages (from ipython->jupyter_ui_poll) (5.1.1)\n",
      "Requirement already satisfied: jedi>=0.16 in /opt/tljh/user/lib/python3.10/site-packages (from ipython->jupyter_ui_poll) (0.19.0)\n",
      "Requirement already satisfied: matplotlib-inline in /opt/tljh/user/lib/python3.10/site-packages (from ipython->jupyter_ui_poll) (0.1.6)\n",
      "Requirement already satisfied: pickleshare in /opt/tljh/user/lib/python3.10/site-packages (from ipython->jupyter_ui_poll) (0.7.5)\n",
      "Requirement already satisfied: prompt-toolkit!=3.0.37,<3.1.0,>=3.0.30 in /opt/tljh/user/lib/python3.10/site-packages (from ipython->jupyter_ui_poll) (3.0.39)\n",
      "Requirement already satisfied: pygments>=2.4.0 in /opt/tljh/user/lib/python3.10/site-packages (from ipython->jupyter_ui_poll) (2.16.1)\n",
      "Requirement already satisfied: stack-data in /opt/tljh/user/lib/python3.10/site-packages (from ipython->jupyter_ui_poll) (0.6.2)\n",
      "Requirement already satisfied: traitlets>=5 in /opt/tljh/user/lib/python3.10/site-packages (from ipython->jupyter_ui_poll) (5.10.1)\n",
      "Requirement already satisfied: exceptiongroup in /opt/tljh/user/lib/python3.10/site-packages (from ipython->jupyter_ui_poll) (1.1.3)\n",
      "Requirement already satisfied: pexpect>4.3 in /opt/tljh/user/lib/python3.10/site-packages (from ipython->jupyter_ui_poll) (4.8.0)\n",
      "Requirement already satisfied: parso<0.9.0,>=0.8.3 in /opt/tljh/user/lib/python3.10/site-packages (from jedi>=0.16->ipython->jupyter_ui_poll) (0.8.3)\n",
      "Requirement already satisfied: ptyprocess>=0.5 in /opt/tljh/user/lib/python3.10/site-packages (from pexpect>4.3->ipython->jupyter_ui_poll) (0.7.0)\n",
      "Requirement already satisfied: wcwidth in /opt/tljh/user/lib/python3.10/site-packages (from prompt-toolkit!=3.0.37,<3.1.0,>=3.0.30->ipython->jupyter_ui_poll) (0.2.6)\n",
      "Requirement already satisfied: executing>=1.2.0 in /opt/tljh/user/lib/python3.10/site-packages (from stack-data->ipython->jupyter_ui_poll) (1.2.0)\n",
      "Requirement already satisfied: asttokens>=2.1.0 in /opt/tljh/user/lib/python3.10/site-packages (from stack-data->ipython->jupyter_ui_poll) (2.4.0)\n",
      "Requirement already satisfied: pure-eval in /opt/tljh/user/lib/python3.10/site-packages (from stack-data->ipython->jupyter_ui_poll) (0.2.2)\n",
      "Requirement already satisfied: six>=1.12.0 in /opt/tljh/user/lib/python3.10/site-packages (from asttokens>=2.1.0->stack-data->ipython->jupyter_ui_poll) (1.16.0)\n"
     ]
    }
   ],
   "source": [
    "!pip install jupyter_ui_poll"
   ]
  },
  {
   "cell_type": "code",
   "execution_count": 2,
   "id": "a7998524-06f1-4506-bd4e-00f5750591ae",
   "metadata": {},
   "outputs": [],
   "source": [
    "from IPython.display import display, clear_output, HTML, Image\n",
    "import random\n",
    "\n",
    "import time\n",
    "import ipywidgets as widgets\n",
    "from jupyter_ui_poll import ui_events\n",
    "\n",
    "import os\n",
    "import re"
   ]
  },
  {
   "cell_type": "code",
   "execution_count": 3,
   "id": "5e0438f4-a45d-48c6-9a49-5ddf5b2cdbb4",
   "metadata": {},
   "outputs": [],
   "source": [
    "def display_img(img_file):\n",
    "    style_str = f'width: 500px;'\n",
    "    html_out = HTML(f\"<img style='{style_str}' src={img_file}></img>\")\n",
    "    display(html_out)"
   ]
  },
  {
   "cell_type": "code",
   "execution_count": 4,
   "id": "89874e41-83ca-4ec2-9d83-7db9ea8b4738",
   "metadata": {},
   "outputs": [],
   "source": [
    "# Create Time-out\n",
    "event_info = {\n",
    "    'type': '',\n",
    "    'description': '',\n",
    "    'time': -1\n",
    "}\n",
    "\n",
    "def wait_for_event(timeout=-1, interval=0.001, max_rate=20, allow_interupt=True):    \n",
    "    start_wait = time.time()\n",
    "\n",
    "    # set event info to be empty\n",
    "    # as this is dict we can change entries\n",
    "    # directly without using\n",
    "    # the global keyword\n",
    "    event_info['type'] = \"\"\n",
    "    event_info['description'] = \"\"\n",
    "    event_info['time'] = -1\n",
    "\n",
    "    n_proc = int(max_rate*interval)+1\n",
    "    \n",
    "    with ui_events() as ui_poll:\n",
    "        keep_looping = True\n",
    "        while keep_looping==True:\n",
    "            # process UI events\n",
    "            ui_poll(n_proc)\n",
    "\n",
    "            # end loop if we have waited more than the timeout period\n",
    "            if (timeout != -1) and (time.time() > start_wait + timeout):\n",
    "                keep_looping = False\n",
    "                \n",
    "            # end loop if event has occured\n",
    "            if allow_interupt==True and event_info['description']!=\"\":\n",
    "                keep_looping = False\n",
    "                \n",
    "            # add pause before looping\n",
    "            # to check events again\n",
    "            time.sleep(interval)\n",
    "    \n",
    "    # return event description after wait ends\n",
    "    # will be set to empty string '' if no event occured\n",
    "    return event_info\n",
    "\n",
    "# this function lets buttons \n",
    "# register events when clicked\n",
    "def register_btn_event(btn):\n",
    "    event_info['type'] = \"button click\"\n",
    "    event_info['description'] = btn.description\n",
    "    event_info['time'] = time.time()\n",
    "    return"
   ]
  },
  {
   "cell_type": "code",
   "execution_count": 5,
   "id": "700fde0e-8fa3-481e-95fd-9bcae28a990e",
   "metadata": {},
   "outputs": [],
   "source": [
    "def ANS_test_single(img_file, blank_img, right_answer):\n",
    "\n",
    "    top_area = widgets.Output(layout={\"height\":\"60px\"})\n",
    "    main_area = widgets.Output(layout={\"height\":\"350px\"})\n",
    "    bottom_area = widgets.Output(layout={\"height\":\"60px\"})\n",
    "\n",
    "    btn1 = widgets.Button(description=\"Left\")\n",
    "    btn2 = widgets.Button(description=\"Right\")\n",
    "\n",
    "    btn1.on_click(register_btn_event)\n",
    "    btn2.on_click(register_btn_event)\n",
    "\n",
    "    panel = widgets.HBox([btn1, btn2])\n",
    "\n",
    "    top_area.append_display_data( HTML(\"<h1>Which side has more dots?</h1>\") )\n",
    "    bottom_area.append_display_data(panel)\n",
    "\n",
    "    display(top_area)\n",
    "    display(main_area)\n",
    "    display(bottom_area)\n",
    "\n",
    "    with main_area: \n",
    "        display_img(img_file) # Display the image\n",
    "        time.sleep(0.75) # Wait for 0.75 seconds\n",
    "\n",
    "        clear_output(wait=True)\n",
    "        display_img(blank_img)  # Display a blank image or placeholder imag\n",
    "    \n",
    "    result = wait_for_event(timeout=3)\n",
    "    \n",
    "    score = 0\n",
    "    \n",
    "    if result['description'] == '':\n",
    "        with main_area: display(\"Too slow!\")\n",
    "    elif result['description'] ==  right_answer:\n",
    "        with main_area: score = 1\n",
    "    else:\n",
    "        with main_area: score = 0\n",
    "\n",
    "    wait_for_event(timeout=1.5)\n",
    "\n",
    "    clear_output()\n",
    "        \n",
    "    return score, result['description']"
   ]
  },
  {
   "cell_type": "code",
   "execution_count": 6,
   "id": "c65ee8e5-904d-407c-8755-e9701f65dba2",
   "metadata": {},
   "outputs": [],
   "source": [
    "# Read file name and create a dictionary that contains \n",
    "# the image name as key and \n",
    "# the answer (Right or Left) as corresponding value\n",
    "\n",
    "\n",
    "# Get the current working directory\n",
    "current_directory = os.getcwd()\n",
    "\n",
    "# Specify the relative path to local files\n",
    "relative_path = ''\n",
    "\n",
    "# Combine the current directory and relative path to get the full path\n",
    "directory_path = os.path.join(current_directory, relative_path)\n",
    "\n",
    "\n",
    "file_dict = {}\n",
    "\n",
    "# Define a regular expression pattern to extract numbers from the file names\n",
    "pattern = re.compile(r'dots_image_(\\d{1,2})x(\\d{1,2}).png')\n",
    "\n",
    "# Iterate over files in the directory\n",
    "for filename in os.listdir(directory_path):\n",
    "    # Check if the file is a PNG file\n",
    "    if filename.endswith('.png'):\n",
    "        # Use regular expression to extract numbers from the file name\n",
    "        match = pattern.match(filename)\n",
    "        if match:\n",
    "            left_side_num = int(match.group(1))\n",
    "            right_side_num = int(match.group(2))\n",
    "\n",
    "            # Compare left_side_num and right_side_num\n",
    "            if left_side_num > right_side_num:\n",
    "                file_dict[filename] = 'Left'\n",
    "            elif left_side_num < right_side_num:\n",
    "                file_dict[filename] = 'Right'\n",
    "            else:\n",
    "                file_dict[filename] = 'Unknown'\n",
    "\n",
    "# # Test\n",
    "# print(file_dict)"
   ]
  },
  {
   "cell_type": "code",
   "execution_count": 7,
   "id": "0442ddcd-9a68-4a18-bed0-94fa6f4d0009",
   "metadata": {},
   "outputs": [],
   "source": [
    "def create_shuffled_list(file_dict):\n",
    "    \n",
    "    # Get the image files and answers from file_dict\n",
    "    image_files = list(file_dict.keys())\n",
    "    answers = list(file_dict.values())\n",
    "    \n",
    "    # Assume the test contained 64 trials\n",
    "    # As there are 16 images in original files, we need to repeat 4 times\n",
    "    # total_image_in_block = image_files * 4\n",
    "    # total_answers_in_block = answers * 4\n",
    "\n",
    "    # Combine image files and answers into pairs\n",
    "    pairs = list(zip(image_files, answers))\n",
    "    # pairs = list(zip(total_image_in_block, total_answers_in_block))\n",
    "\n",
    "    # Shuffle the pairs\n",
    "    random.shuffle(pairs)\n",
    "\n",
    "    # Unzip the pairs back into separate lists\n",
    "    shuffled_image_files, shuffled_answers = zip(*pairs)\n",
    "\n",
    "    # Convert the result back to lists\n",
    "    shuffled_image_files = list(shuffled_image_files)\n",
    "    shuffled_answers = list(shuffled_answers)\n",
    "\n",
    "    return shuffled_image_files, shuffled_answers\n",
    "    \n",
    "# # Test\n",
    "# shuffled_image_files, shuffled_answers = create_shuffled_list(file_dict)\n",
    "# print(shuffled_image_files)\n",
    "# print(shuffled_answers)"
   ]
  },
  {
   "cell_type": "code",
   "execution_count": 8,
   "id": "fe143f22-48af-47ed-8799-3b0dff1bfabd",
   "metadata": {},
   "outputs": [
    {
     "name": "stdout",
     "output_type": "stream",
     "text": [
      "You scored 10 out of 16\n",
      "10\n",
      "['dots_image_9x10.png', 'dots_image_18x16.png', 'dots_image_15x20.png', 'dots_image_16x18.png', 'dots_image_9x12.png', 'dots_image_20x18.png', 'dots_image_10x9.png', 'dots_image_21x18.png', 'dots_image_14x12.png', 'dots_image_18x20.png', 'dots_image_20x15.png', 'dots_image_16x12.png', 'dots_image_12x16.png', 'dots_image_12x14.png', 'dots_image_12x9.png', 'dots_image_18x21.png']\n",
      "['Right', 'Left', 'Right', 'Right', 'Right', 'Left', 'Left', 'Left', 'Left', 'Right', 'Left', 'Left', 'Right', 'Right', 'Left', 'Right']\n",
      "['Left', 'Left', '', 'Left', 'Right', 'Left', '', 'Left', 'Left', 'Left', 'Left', 'Left', 'Right', 'Left', 'Left', 'Right']\n"
     ]
    }
   ],
   "source": [
    "def run_ANS_test_block():\n",
    "    total = 0\n",
    "    input_answers = []\n",
    "\n",
    "    shuffled_image, shuffled_answers = create_shuffled_list(file_dict)\n",
    "    blank_img = \"dots_image_blank.png\"\n",
    "\n",
    "    for image, ans in zip(shuffled_image, shuffled_answers):\n",
    "        score, input_ans = ANS_test_single(image, blank_img, ans)\n",
    "        total += score\n",
    "        \n",
    "        input_answers.append(input_ans)\n",
    "        \n",
    "    print(f'You scored {total} out of 16')\n",
    "    return total, shuffled_image, shuffled_answers, input_answers\n",
    "\n",
    "\n",
    "total, shuffled_image, shuffled_answers, input_answers = run_ANS_test_block()\n",
    "print(total)\n",
    "print(shuffled_image)\n",
    "print(shuffled_answers)\n",
    "print(input_answers)"
   ]
  },
  {
   "cell_type": "code",
   "execution_count": 9,
   "id": "078fd55d-cbe2-4745-b209-b250b5f15066",
   "metadata": {},
   "outputs": [
    {
     "name": "stdout",
     "output_type": "stream",
     "text": [
      "We are going to test your reaction time!\n",
      "Please enter your name:\n"
     ]
    },
    {
     "name": "stdin",
     "output_type": "stream",
     "text": [
      ">  s2\n"
     ]
    },
    {
     "name": "stdout",
     "output_type": "stream",
     "text": [
      "Please enter your age:\n"
     ]
    },
    {
     "name": "stdin",
     "output_type": "stream",
     "text": [
      ">  21\n"
     ]
    },
    {
     "name": "stdout",
     "output_type": "stream",
     "text": [
      "Please indicate whether your major or occupation is more aligned with science or art:\n"
     ]
    },
    {
     "name": "stdin",
     "output_type": "stream",
     "text": [
      ">  sc\n"
     ]
    },
    {
     "data": {
      "text/plain": [
       "True"
      ]
     },
     "execution_count": 9,
     "metadata": {},
     "output_type": "execute_result"
    }
   ],
   "source": [
    "# Send data to google form\n",
    "\n",
    "import requests\n",
    "from bs4 import BeautifulSoup\n",
    "import json\n",
    "\n",
    "def send_to_google_form(data_dict, form_url):\n",
    "    ''' Helper function to upload information to a corresponding google form \n",
    "        You are not expected to follow the code within this function!\n",
    "    '''\n",
    "    form_id = form_url[34:90]\n",
    "    view_form_url = f'https://docs.google.com/forms/d/e/{form_id}/viewform'\n",
    "    post_form_url = f'https://docs.google.com/forms/d/e/{form_id}/formResponse'\n",
    "\n",
    "    page = requests.get(view_form_url)\n",
    "    content = BeautifulSoup(page.content, \"html.parser\").find('script', type='text/javascript')\n",
    "    content = content.text[27:-1]\n",
    "    result = json.loads(content)[1][1]\n",
    "    form_dict = {}\n",
    "    \n",
    "    loaded_all = True\n",
    "    for item in result:\n",
    "        if item[1] not in data_dict:\n",
    "            print(f\"Form item {item[1]} not found. Data not uploaded.\")\n",
    "            loaded_all = False\n",
    "            return False\n",
    "        form_dict[f'entry.{item[4][0][0]}'] = data_dict[item[1]]\n",
    "    \n",
    "    post_result = requests.post(post_form_url, data=form_dict)\n",
    "    return post_result.ok\n",
    "\n",
    "# Let user enter their names, age and major or job\n",
    "print(\"We are going to test your reaction time!\")\n",
    "\n",
    "print(\"Please enter your name:\")\n",
    "ans1 = input(\"> \")\n",
    "\n",
    "print(\"Please enter your age:\")\n",
    "ans2 = input(\"> \")\n",
    "\n",
    "print(\"Please indicate whether your major or occupation is more aligned with science or art:\")\n",
    "ans3 = input(\"> \")\n",
    "\n",
    "\n",
    "data_dict = {\n",
    "    'name': ans1,\n",
    "    'age': ans2,\n",
    "    'subject': ans3,\n",
    "    'score': total,\n",
    "    'image names': shuffled_image, \n",
    "    'image answers': shuffled_answers,\n",
    "    'input answers': input_answers\n",
    "}\n",
    "\n",
    "form_url = 'https://docs.google.com/forms/d/e/1FAIpQLScWXr-igXq9VC9caYLvd4v_vnf--KyrpeLZjAqiyJA0CzcSXg/viewform?usp=sf_link'\n",
    "send_to_google_form(data_dict, form_url)\n"
   ]
  }
 ],
 "metadata": {
  "kernelspec": {
   "display_name": "Python 3 (ipykernel)",
   "language": "python",
   "name": "python3"
  },
  "language_info": {
   "codemirror_mode": {
    "name": "ipython",
    "version": 3
   },
   "file_extension": ".py",
   "mimetype": "text/x-python",
   "name": "python",
   "nbconvert_exporter": "python",
   "pygments_lexer": "ipython3",
   "version": "3.10.10"
  }
 },
 "nbformat": 4,
 "nbformat_minor": 5
}
